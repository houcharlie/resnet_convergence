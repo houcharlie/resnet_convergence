{
  "nbformat": 4,
  "nbformat_minor": 0,
  "metadata": {
    "colab": {
      "name": "relaxations.ipynb",
      "version": "0.3.2",
      "provenance": [],
      "collapsed_sections": []
    }
  },
  "cells": [
    {
      "metadata": {
        "id": "0pVQC4ZrsoBi",
        "colab_type": "code",
        "colab": {}
      },
      "cell_type": "code",
      "source": [
        "# http://pytorch.org/\n",
        "from os.path import exists\n",
        "from wheel.pep425tags import get_abbr_impl, get_impl_ver, get_abi_tag\n",
        "platform = '{}{}-{}'.format(get_abbr_impl(), get_impl_ver(), get_abi_tag())\n",
        "cuda_output = !ldconfig -p|grep cudart.so|sed -e 's/.*\\.\\([0-9]*\\)\\.\\([0-9]*\\)$/cu\\1\\2/'\n",
        "accelerator = cuda_output[0] if exists('/dev/nvidia0') else 'cpu'\n",
        "\n",
        "!pip install -q http://download.pytorch.org/whl/{accelerator}/torch-0.4.1-{platform}-linux_x86_64.whl torchvision\n",
        "import torch"
      ],
      "execution_count": 0,
      "outputs": []
    },
    {
      "metadata": {
        "id": "MAgVZX10WdfT",
        "colab_type": "text"
      },
      "cell_type": "markdown",
      "source": [
        "W2(Relu((I+W)x))"
      ]
    },
    {
      "metadata": {
        "id": "jWwEL0bctulD",
        "colab_type": "code",
        "colab": {}
      },
      "cell_type": "code",
      "source": [
        "import torch\n",
        "import torch.nn as nn\n",
        "import torch.nn.functional as F\n",
        "import torch.utils.data\n",
        "import numpy as np\n",
        "class Net(nn.Module):\n",
        "\n",
        "    def __init__(self, d):\n",
        "        super(Net, self).__init__()\n",
        "        self.fc1 = nn.Linear(d, d, bias = False)\n",
        "        self.fc2 = nn.Linear(d, d, bias = False)\n",
        "        \n",
        "    def forward(self, x):\n",
        "        y = self.fc2(F.relu(self.fc1(x) + x))\n",
        "        return torch.sum(y)\n",
        "\n",
        "class TeacherNet(object):\n",
        "  def __init__(self, d):\n",
        "    self.W1 = torch.rand(d,d)\n",
        "    self.W2 = torch.rand(d,d)\n",
        "  def compute(self, x):\n",
        "    return torch.sum(torch.mv(self.W2,F.relu(torch.mv(self.W1, x) + x)))\n",
        "  def getWeights(self):\n",
        "    return (self.W1, self.W2)\n"
      ],
      "execution_count": 0,
      "outputs": []
    },
    {
      "metadata": {
        "id": "xadtC-_xWXTJ",
        "colab_type": "text"
      },
      "cell_type": "markdown",
      "source": [
        "W2(Relu((I+W)x)) + x"
      ]
    },
    {
      "metadata": {
        "id": "1QQZB2dM2Nxn",
        "colab_type": "code",
        "colab": {}
      },
      "cell_type": "code",
      "source": [
        "import torch\n",
        "import torch.nn as nn\n",
        "import torch.nn.functional as F\n",
        "import torch.utils.data\n",
        "import numpy as np\n",
        "class Net(nn.Module):\n",
        "\n",
        "    def __init__(self, d):\n",
        "        super(Net, self).__init__()\n",
        "        self.fc1 = nn.Linear(d, d, bias = False)\n",
        "        self.fc2 = nn.Linear(d, d, bias = False)\n",
        "        \n",
        "    def forward(self, x):\n",
        "        y = self.fc2(F.relu(self.fc1(x) + x)) + x\n",
        "        return torch.sum(y)\n",
        "\n",
        "class TeacherNet(object):\n",
        "  def __init__(self, d):\n",
        "    self.W1 = torch.rand(d,d)\n",
        "    self.W2 = torch.rand(d,d)\n",
        "  def compute(self, x):\n",
        "    return torch.sum(torch.mv(self.W2,F.relu(torch.mv(self.W1, x) + x)) + x)\n",
        "  def getWeights(self):\n",
        "    return (self.W1, self.W2)"
      ],
      "execution_count": 0,
      "outputs": []
    },
    {
      "metadata": {
        "id": "KHnyM4alvRRc",
        "colab_type": "code",
        "colab": {}
      },
      "cell_type": "code",
      "source": [
        "d = 10\n",
        "\n",
        "teacher = TeacherNet(d)\n",
        "inputs = []\n",
        "trueOutputs = []\n",
        "for i in range(100000):\n",
        "  # x is sampled N 0,1\n",
        "  x = np.random.multivariate_normal(np.zeros(d), np.identity(d))\n",
        "  x = torch.from_numpy(x)\n",
        "  x = x.float()\n",
        "  y = teacher.compute(x)\n",
        "  inputs.append(x)\n",
        "  trueOutputs.append(y)"
      ],
      "execution_count": 0,
      "outputs": []
    },
    {
      "metadata": {
        "id": "YVQMF7ctvVxF",
        "colab_type": "code",
        "colab": {}
      },
      "cell_type": "code",
      "source": [
        "class MyDataset(torch.utils.data.Dataset):\n",
        "  def __init__(self, featureList, outputList):\n",
        "    self.featureList = featureList\n",
        "    self.outputList = outputList\n",
        "    assert len(featureList) == len(outputList)\n",
        "  def __getitem__(self,idx):\n",
        "    return self.featureList[idx], self.outputList[idx]\n",
        "  def __len__(self):\n",
        "    return len(self.featureList)"
      ],
      "execution_count": 0,
      "outputs": []
    },
    {
      "metadata": {
        "id": "uPfI3B_WvfGA",
        "colab_type": "code",
        "colab": {}
      },
      "cell_type": "code",
      "source": [
        "import torch.utils.data as utils\n",
        "dataset = MyDataset(inputs, trueOutputs)\n",
        "trainloader = utils.DataLoader(dataset, batch_size = 200,\n",
        "                               shuffle = True, num_workers = 2)"
      ],
      "execution_count": 0,
      "outputs": []
    },
    {
      "metadata": {
        "id": "yIMEPVTAvk3u",
        "colab_type": "code",
        "colab": {}
      },
      "cell_type": "code",
      "source": [
        "import torch.optim as optim\n",
        "net = Net(d)\n",
        "criterion = nn.MSELoss()\n",
        "optimizer = optim.SGD(net.parameters(), lr=0.001, momentum = .01, nesterov = True)\n"
      ],
      "execution_count": 0,
      "outputs": []
    },
    {
      "metadata": {
        "id": "0ObJQZRzvn9G",
        "colab_type": "code",
        "colab": {
          "base_uri": "https://localhost:8080/",
          "height": 2017
        },
        "outputId": "11b8cc62-6950-4bb4-ab96-10bebe482822"
      },
      "cell_type": "code",
      "source": [
        "iterations = 0\n",
        "losses = []\n",
        "iterationNumbers = []\n",
        "num_batches = 250\n",
        "epochs = 100\n",
        "for epoch in range(epochs):  # loop over the dataset multiple times\n",
        "    running_loss = 0.0\n",
        "    for i, data in enumerate(trainloader, 0):\n",
        "      # get the inputs\n",
        "      features, values = data\n",
        "      \n",
        "      # zero the parameter gradients\n",
        "      optimizer.zero_grad()\n",
        "      \n",
        "      # forward + backward + optimize\n",
        "      outputlist = []\n",
        "      for feature in features:\n",
        "        outputlist.append(net(feature))\n",
        "      outputs = torch.stack([j for j in outputlist])\n",
        "      loss = criterion(outputs, values)\n",
        "      loss.backward()\n",
        "      optimizer.step()\n",
        "\n",
        "      # print statistics\n",
        "      running_loss += loss.item()\n",
        "      \n",
        "      if i % num_batches == (num_batches - 1):\n",
        "        # find the distance between parameters\n",
        "        params = list(net.parameters())\n",
        "        studentW1 = params[0]\n",
        "        studentW2 = params[1]\n",
        "        (teacherW1, teacherW2) = teacher.getWeights()\n",
        "        distance = np.linalg.norm(studentW1.data.numpy() - teacherW1.data.numpy()) + np.linalg.norm(studentW2.data.numpy() - teacherW2.data.numpy())\n",
        "        studentW1Norm = np.linalg.norm(studentW1.data.numpy())\n",
        "        studentW2Norm = np.linalg.norm(studentW2.data.numpy())\n",
        "        losses.append(running_loss/num_batches)\n",
        "        iterationNumbers.append(iterations)\n",
        "        print('[%d, %5d] loss: %.3f, distance: %.4f, norm1: %.3f, norm2: %.3f' %\n",
        "            (epoch + 1, i + 1, running_loss/num_batches, distance, \n",
        "            studentW1Norm, studentW2Norm))\n",
        "        running_loss = 0.0\n",
        "      iterations += 1\n",
        "\n",
        "print('Finished Training')"
      ],
      "execution_count": 55,
      "outputs": [
        {
          "output_type": "stream",
          "text": [
            "[1,   250] loss: 130.085, distance: 8.3565, norm1: 4.950, norm2: 5.959\n",
            "[1,   500] loss: 6.591, distance: 7.7387, norm1: 4.945, norm2: 5.956\n",
            "[2,   250] loss: 4.124, distance: 7.3087, norm1: 4.939, norm2: 5.948\n",
            "[2,   500] loss: 2.908, distance: 7.0059, norm1: 4.955, norm2: 5.952\n",
            "[3,   250] loss: 2.130, distance: 6.7899, norm1: 4.958, norm2: 5.946\n",
            "[3,   500] loss: 1.663, distance: 6.6234, norm1: 4.966, norm2: 5.949\n",
            "[4,   250] loss: 1.359, distance: 6.4973, norm1: 4.971, norm2: 5.948\n",
            "[4,   500] loss: 1.151, distance: 6.3945, norm1: 4.971, norm2: 5.945\n",
            "[5,   250] loss: 0.994, distance: 6.3215, norm1: 4.977, norm2: 5.946\n",
            "[5,   500] loss: 0.861, distance: 6.2623, norm1: 4.980, norm2: 5.947\n",
            "[6,   250] loss: 0.783, distance: 6.2186, norm1: 4.983, norm2: 5.946\n",
            "[6,   500] loss: 0.715, distance: 6.1833, norm1: 4.985, norm2: 5.947\n",
            "[7,   250] loss: 0.674, distance: 6.1628, norm1: 4.989, norm2: 5.947\n",
            "[7,   500] loss: 0.630, distance: 6.1453, norm1: 4.992, norm2: 5.946\n",
            "[8,   250] loss: 0.613, distance: 6.1362, norm1: 4.996, norm2: 5.945\n",
            "[8,   500] loss: 0.577, distance: 6.1352, norm1: 5.003, norm2: 5.945\n",
            "[9,   250] loss: 0.562, distance: 6.1372, norm1: 5.011, norm2: 5.947\n",
            "[9,   500] loss: 0.539, distance: 6.1401, norm1: 5.018, norm2: 5.946\n",
            "[10,   250] loss: 0.510, distance: 6.1448, norm1: 5.026, norm2: 5.945\n",
            "[10,   500] loss: 0.489, distance: 6.1483, norm1: 5.036, norm2: 5.945\n",
            "[11,   250] loss: 0.449, distance: 6.1477, norm1: 5.046, norm2: 5.945\n",
            "[11,   500] loss: 0.424, distance: 6.1452, norm1: 5.053, norm2: 5.945\n",
            "[12,   250] loss: 0.388, distance: 6.1325, norm1: 5.061, norm2: 5.944\n",
            "[12,   500] loss: 0.353, distance: 6.1169, norm1: 5.066, norm2: 5.944\n",
            "[13,   250] loss: 0.322, distance: 6.0954, norm1: 5.069, norm2: 5.943\n",
            "[13,   500] loss: 0.305, distance: 6.0694, norm1: 5.071, norm2: 5.943\n",
            "[14,   250] loss: 0.282, distance: 6.0445, norm1: 5.073, norm2: 5.942\n",
            "[14,   500] loss: 0.251, distance: 6.0144, norm1: 5.073, norm2: 5.941\n",
            "[15,   250] loss: 0.235, distance: 5.9878, norm1: 5.074, norm2: 5.943\n",
            "[15,   500] loss: 0.214, distance: 5.9640, norm1: 5.075, norm2: 5.941\n",
            "[16,   250] loss: 0.197, distance: 5.9399, norm1: 5.075, norm2: 5.941\n",
            "[16,   500] loss: 0.175, distance: 5.9186, norm1: 5.076, norm2: 5.941\n",
            "[17,   250] loss: 0.157, distance: 5.8964, norm1: 5.075, norm2: 5.941\n",
            "[17,   500] loss: 0.144, distance: 5.8801, norm1: 5.077, norm2: 5.941\n",
            "[18,   250] loss: 0.125, distance: 5.8650, norm1: 5.077, norm2: 5.940\n",
            "[18,   500] loss: 0.112, distance: 5.8479, norm1: 5.079, norm2: 5.940\n",
            "[19,   250] loss: 0.098, distance: 5.8359, norm1: 5.079, norm2: 5.940\n",
            "[19,   500] loss: 0.084, distance: 5.8245, norm1: 5.080, norm2: 5.941\n",
            "[20,   250] loss: 0.074, distance: 5.8152, norm1: 5.080, norm2: 5.940\n",
            "[20,   500] loss: 0.064, distance: 5.8073, norm1: 5.082, norm2: 5.940\n",
            "[21,   250] loss: 0.055, distance: 5.7996, norm1: 5.083, norm2: 5.940\n",
            "[21,   500] loss: 0.047, distance: 5.7936, norm1: 5.083, norm2: 5.940\n",
            "[22,   250] loss: 0.040, distance: 5.7886, norm1: 5.084, norm2: 5.940\n",
            "[22,   500] loss: 0.033, distance: 5.7838, norm1: 5.085, norm2: 5.940\n",
            "[23,   250] loss: 0.028, distance: 5.7805, norm1: 5.086, norm2: 5.940\n",
            "[23,   500] loss: 0.024, distance: 5.7782, norm1: 5.087, norm2: 5.940\n",
            "[24,   250] loss: 0.020, distance: 5.7753, norm1: 5.088, norm2: 5.940\n",
            "[24,   500] loss: 0.017, distance: 5.7738, norm1: 5.089, norm2: 5.940\n",
            "[25,   250] loss: 0.014, distance: 5.7718, norm1: 5.089, norm2: 5.940\n",
            "[25,   500] loss: 0.012, distance: 5.7704, norm1: 5.089, norm2: 5.940\n",
            "[26,   250] loss: 0.010, distance: 5.7690, norm1: 5.090, norm2: 5.940\n",
            "[26,   500] loss: 0.008, distance: 5.7681, norm1: 5.090, norm2: 5.940\n",
            "[27,   250] loss: 0.007, distance: 5.7677, norm1: 5.091, norm2: 5.940\n",
            "[27,   500] loss: 0.005, distance: 5.7670, norm1: 5.091, norm2: 5.940\n",
            "[28,   250] loss: 0.005, distance: 5.7668, norm1: 5.092, norm2: 5.940\n",
            "[28,   500] loss: 0.004, distance: 5.7662, norm1: 5.092, norm2: 5.940\n",
            "[29,   250] loss: 0.003, distance: 5.7658, norm1: 5.093, norm2: 5.940\n",
            "[29,   500] loss: 0.003, distance: 5.7656, norm1: 5.093, norm2: 5.940\n",
            "[30,   250] loss: 0.002, distance: 5.7655, norm1: 5.093, norm2: 5.940\n",
            "[30,   500] loss: 0.002, distance: 5.7653, norm1: 5.093, norm2: 5.940\n",
            "[31,   250] loss: 0.001, distance: 5.7651, norm1: 5.094, norm2: 5.940\n",
            "[31,   500] loss: 0.001, distance: 5.7651, norm1: 5.094, norm2: 5.940\n",
            "[32,   250] loss: 0.001, distance: 5.7651, norm1: 5.094, norm2: 5.940\n",
            "[32,   500] loss: 0.001, distance: 5.7650, norm1: 5.094, norm2: 5.940\n",
            "[33,   250] loss: 0.001, distance: 5.7648, norm1: 5.094, norm2: 5.940\n",
            "[33,   500] loss: 0.001, distance: 5.7650, norm1: 5.095, norm2: 5.940\n",
            "[34,   250] loss: 0.000, distance: 5.7650, norm1: 5.095, norm2: 5.940\n",
            "[34,   500] loss: 0.000, distance: 5.7649, norm1: 5.095, norm2: 5.940\n",
            "[35,   250] loss: 0.000, distance: 5.7649, norm1: 5.095, norm2: 5.940\n"
          ],
          "name": "stdout"
        },
        {
          "output_type": "stream",
          "text": [
            "Process Process-1323:\n",
            "Traceback (most recent call last):\n",
            "  File \"/usr/lib/python2.7/multiprocessing/process.py\", line 267, in _bootstrap\n",
            "Process Process-1324:\n",
            "    self.run()\n",
            "Traceback (most recent call last):\n",
            "  File \"/usr/lib/python2.7/multiprocessing/process.py\", line 114, in run\n",
            "  File \"/usr/lib/python2.7/multiprocessing/process.py\", line 267, in _bootstrap\n",
            "    self.run()\n",
            "    self._target(*self._args, **self._kwargs)\n",
            "  File \"/usr/lib/python2.7/multiprocessing/process.py\", line 114, in run\n",
            "    self._target(*self._args, **self._kwargs)\n",
            "  File \"/usr/local/lib/python2.7/dist-packages/torch/utils/data/dataloader.py\", line 96, in _worker_loop\n",
            "  File \"/usr/local/lib/python2.7/dist-packages/torch/utils/data/dataloader.py\", line 96, in _worker_loop\n",
            "    r = index_queue.get(timeout=MANAGER_STATUS_CHECK_INTERVAL)\n",
            "  File \"/usr/lib/python2.7/multiprocessing/queues.py\", line 131, in get\n",
            "    r = index_queue.get(timeout=MANAGER_STATUS_CHECK_INTERVAL)\n",
            "    if not self._poll(timeout):\n",
            "  File \"/usr/lib/python2.7/multiprocessing/queues.py\", line 131, in get\n",
            "KeyboardInterrupt\n",
            "    if not self._poll(timeout):\n",
            "KeyboardInterrupt\n"
          ],
          "name": "stderr"
        },
        {
          "output_type": "error",
          "ename": "KeyboardInterrupt",
          "evalue": "ignored",
          "traceback": [
            "\u001b[0;31m\u001b[0m",
            "\u001b[0;31mKeyboardInterrupt\u001b[0mTraceback (most recent call last)",
            "\u001b[0;32m<ipython-input-55-1e5e2ace7b44>\u001b[0m in \u001b[0;36m<module>\u001b[0;34m()\u001b[0m\n\u001b[1;32m     19\u001b[0m       \u001b[0moutputs\u001b[0m \u001b[0;34m=\u001b[0m \u001b[0mtorch\u001b[0m\u001b[0;34m.\u001b[0m\u001b[0mstack\u001b[0m\u001b[0;34m(\u001b[0m\u001b[0;34m[\u001b[0m\u001b[0mj\u001b[0m \u001b[0;32mfor\u001b[0m \u001b[0mj\u001b[0m \u001b[0;32min\u001b[0m \u001b[0moutputlist\u001b[0m\u001b[0;34m]\u001b[0m\u001b[0;34m)\u001b[0m\u001b[0;34m\u001b[0m\u001b[0m\n\u001b[1;32m     20\u001b[0m       \u001b[0mloss\u001b[0m \u001b[0;34m=\u001b[0m \u001b[0mcriterion\u001b[0m\u001b[0;34m(\u001b[0m\u001b[0moutputs\u001b[0m\u001b[0;34m,\u001b[0m \u001b[0mvalues\u001b[0m\u001b[0;34m)\u001b[0m\u001b[0;34m\u001b[0m\u001b[0m\n\u001b[0;32m---> 21\u001b[0;31m       \u001b[0mloss\u001b[0m\u001b[0;34m.\u001b[0m\u001b[0mbackward\u001b[0m\u001b[0;34m(\u001b[0m\u001b[0;34m)\u001b[0m\u001b[0;34m\u001b[0m\u001b[0m\n\u001b[0m\u001b[1;32m     22\u001b[0m       \u001b[0moptimizer\u001b[0m\u001b[0;34m.\u001b[0m\u001b[0mstep\u001b[0m\u001b[0;34m(\u001b[0m\u001b[0;34m)\u001b[0m\u001b[0;34m\u001b[0m\u001b[0m\n\u001b[1;32m     23\u001b[0m \u001b[0;34m\u001b[0m\u001b[0m\n",
            "\u001b[0;32m/usr/local/lib/python2.7/dist-packages/torch/tensor.pyc\u001b[0m in \u001b[0;36mbackward\u001b[0;34m(self, gradient, retain_graph, create_graph)\u001b[0m\n\u001b[1;32m     91\u001b[0m                 \u001b[0mproducts\u001b[0m\u001b[0;34m.\u001b[0m \u001b[0mDefaults\u001b[0m \u001b[0mto\u001b[0m \u001b[0;34m`\u001b[0m\u001b[0;34m`\u001b[0m\u001b[0mFalse\u001b[0m\u001b[0;34m`\u001b[0m\u001b[0;34m`\u001b[0m\u001b[0;34m.\u001b[0m\u001b[0;34m\u001b[0m\u001b[0m\n\u001b[1;32m     92\u001b[0m         \"\"\"\n\u001b[0;32m---> 93\u001b[0;31m         \u001b[0mtorch\u001b[0m\u001b[0;34m.\u001b[0m\u001b[0mautograd\u001b[0m\u001b[0;34m.\u001b[0m\u001b[0mbackward\u001b[0m\u001b[0;34m(\u001b[0m\u001b[0mself\u001b[0m\u001b[0;34m,\u001b[0m \u001b[0mgradient\u001b[0m\u001b[0;34m,\u001b[0m \u001b[0mretain_graph\u001b[0m\u001b[0;34m,\u001b[0m \u001b[0mcreate_graph\u001b[0m\u001b[0;34m)\u001b[0m\u001b[0;34m\u001b[0m\u001b[0m\n\u001b[0m\u001b[1;32m     94\u001b[0m \u001b[0;34m\u001b[0m\u001b[0m\n\u001b[1;32m     95\u001b[0m     \u001b[0;32mdef\u001b[0m \u001b[0mregister_hook\u001b[0m\u001b[0;34m(\u001b[0m\u001b[0mself\u001b[0m\u001b[0;34m,\u001b[0m \u001b[0mhook\u001b[0m\u001b[0;34m)\u001b[0m\u001b[0;34m:\u001b[0m\u001b[0;34m\u001b[0m\u001b[0m\n",
            "\u001b[0;32m/usr/local/lib/python2.7/dist-packages/torch/autograd/__init__.pyc\u001b[0m in \u001b[0;36mbackward\u001b[0;34m(tensors, grad_tensors, retain_graph, create_graph, grad_variables)\u001b[0m\n\u001b[1;32m     88\u001b[0m     Variable._execution_engine.run_backward(\n\u001b[1;32m     89\u001b[0m         \u001b[0mtensors\u001b[0m\u001b[0;34m,\u001b[0m \u001b[0mgrad_tensors\u001b[0m\u001b[0;34m,\u001b[0m \u001b[0mretain_graph\u001b[0m\u001b[0;34m,\u001b[0m \u001b[0mcreate_graph\u001b[0m\u001b[0;34m,\u001b[0m\u001b[0;34m\u001b[0m\u001b[0m\n\u001b[0;32m---> 90\u001b[0;31m         allow_unreachable=True)  # allow_unreachable flag\n\u001b[0m\u001b[1;32m     91\u001b[0m \u001b[0;34m\u001b[0m\u001b[0m\n\u001b[1;32m     92\u001b[0m \u001b[0;34m\u001b[0m\u001b[0m\n",
            "\u001b[0;31mKeyboardInterrupt\u001b[0m: "
          ]
        }
      ]
    },
    {
      "metadata": {
        "id": "10itSp3UvvyS",
        "colab_type": "code",
        "colab": {
          "base_uri": "https://localhost:8080/",
          "height": 361
        },
        "outputId": "2abb7d23-dc1b-451d-afd3-2b774dc8a0dc"
      },
      "cell_type": "code",
      "source": [
        "import matplotlib.pylab as plt\n",
        "plt.plot(iterationNumbers, losses)\n",
        "plt.xlabel(\"Batch number\")\n",
        "plt.ylabel(\"Loss\")\n",
        "plt.show()"
      ],
      "execution_count": 56,
      "outputs": [
        {
          "output_type": "display_data",
          "data": {
            "image/png": "[encoded data removed]",
            "text/plain": [
              "<matplotlib.figure.Figure at 0x7f572a721510>"
            ]
          },
          "metadata": {
            "tags": []
          }
        }
      ]
    },
    {
      "metadata": {
        "id": "egWVcsgLWOGq",
        "colab_type": "code",
        "colab": {}
      },
      "cell_type": "code",
      "source": [
        ""
      ],
      "execution_count": 0,
      "outputs": []
    }
  ]
}