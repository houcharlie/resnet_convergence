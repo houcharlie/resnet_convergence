{
  "nbformat": 4,
  "nbformat_minor": 0,
  "metadata": {
    "colab": {
      "name": "resnet_hypotheses.ipynb",
      "version": "0.3.2",
      "provenance": []
    }
  },
  "cells": [
    {
      "metadata": {
        "id": "O6fMIGfw-aPw",
        "colab_type": "code",
        "colab": {}
      },
      "cell_type": "code",
      "source": [
        "# http://pytorch.org/\n",
        "from os.path import exists\n",
        "from wheel.pep425tags import get_abbr_impl, get_impl_ver, get_abi_tag\n",
        "platform = '{}{}-{}'.format(get_abbr_impl(), get_impl_ver(), get_abi_tag())\n",
        "cuda_output = !ldconfig -p|grep cudart.so|sed -e 's/.*\\.\\([0-9]*\\)\\.\\([0-9]*\\)$/cu\\1\\2/'\n",
        "accelerator = cuda_output[0] if exists('/dev/nvidia0') else 'cpu'\n",
        "\n",
        "!pip install -q http://download.pytorch.org/whl/{accelerator}/torch-0.4.1-{platform}-linux_x86_64.whl torchvision\n",
        "import torch"
      ],
      "execution_count": 0,
      "outputs": []
    },
    {
      "metadata": {
        "id": "EQu7VVTn7jLI",
        "colab_type": "text"
      },
      "cell_type": "markdown",
      "source": [
        "# Reproduce Yuanzhi's Results\n",
        "Architecture is reLU((I+W)x)\n",
        "\n"
      ]
    },
    {
      "metadata": {
        "id": "MRdUGN1JR0jQ",
        "colab_type": "code",
        "colab": {}
      },
      "cell_type": "code",
      "source": [
        "import torch\n",
        "import torch.nn as nn\n",
        "import torch.nn.functional as F\n",
        "import torch.utils.data\n",
        "\n",
        "class Net(nn.Module):\n",
        "\n",
        "    def __init__(self, d):\n",
        "        super(Net, self).__init__()\n",
        "        self.fc = nn.Linear(d, d)\n",
        "        \n",
        "    def forward(self, x):\n",
        "        y = F.relu(self.fc(x) + x)\n",
        "        return torch.sum(y)\n",
        "\n",
        "\n",
        "\n"
      ],
      "execution_count": 0,
      "outputs": []
    },
    {
      "metadata": {
        "id": "w8eub4-fBIr6",
        "colab_type": "code",
        "colab": {}
      },
      "cell_type": "code",
      "source": [
        "class TeacherNet(object):\n",
        "  def __init__(self, d):\n",
        "    self.W1 = torch.rand(d,d)\n",
        "  def compute(self, x):\n",
        "    return torch.sum(F.relu(torch.mv(self.W1, x) + x))\n",
        "  def getWeights(self):\n",
        "    return self.W1\n"
      ],
      "execution_count": 0,
      "outputs": []
    },
    {
      "metadata": {
        "id": "RhaNtPPLDdIH",
        "colab_type": "text"
      },
      "cell_type": "markdown",
      "source": [
        "We generate the examples that we want to train on here"
      ]
    },
    {
      "metadata": {
        "id": "wijfZthvDZHc",
        "colab_type": "code",
        "colab": {}
      },
      "cell_type": "code",
      "source": [
        "import numpy as np\n",
        "d = 5\n",
        "net = Net(d)\n",
        "teacher = TeacherNet(d)\n",
        "inputs = []\n",
        "trueOutputs = []\n",
        "for i in range(100000):\n",
        "  # x is sampled N 0,1\n",
        "  x = np.random.multivariate_normal(np.zeros(d), np.identity(d))\n",
        "  x = torch.from_numpy(x)\n",
        "  x = x.float()\n",
        "  y = teacher.compute(x)\n",
        "  inputs.append(x)\n",
        "  trueOutputs.append(y)"
      ],
      "execution_count": 0,
      "outputs": []
    },
    {
      "metadata": {
        "id": "NMcDBIQk69Il",
        "colab_type": "code",
        "colab": {}
      },
      "cell_type": "code",
      "source": [
        "class MyDataset(torch.utils.data.Dataset):\n",
        "  def __init__(self, featureList, outputList):\n",
        "    self.featureList = featureList\n",
        "    self.outputList = outputList\n",
        "    assert len(featureList) == len(outputList)\n",
        "  def __getitem__(self,idx):\n",
        "    return self.featureList[idx], self.outputList[idx]\n",
        "  def __len__(self):\n",
        "    return len(self.featureList)"
      ],
      "execution_count": 0,
      "outputs": []
    },
    {
      "metadata": {
        "id": "RKEP5O9h5o68",
        "colab_type": "text"
      },
      "cell_type": "markdown",
      "source": [
        "Put the teaching data into a dataloader"
      ]
    },
    {
      "metadata": {
        "id": "0Pe91JVU5EU6",
        "colab_type": "code",
        "colab": {}
      },
      "cell_type": "code",
      "source": [
        "import torch.utils.data as utils\n",
        "dataset = MyDataset(inputs, trueOutputs)\n",
        "trainloader = utils.DataLoader(dataset, batch_size = 200,\n",
        "                               shuffle = True, num_workers = 2)"
      ],
      "execution_count": 0,
      "outputs": []
    },
    {
      "metadata": {
        "id": "uq6SmFTDQEUD",
        "colab_type": "text"
      },
      "cell_type": "markdown",
      "source": [
        "Nesterov momentum "
      ]
    },
    {
      "metadata": {
        "id": "-SC_Uqce-Wru",
        "colab_type": "code",
        "colab": {}
      },
      "cell_type": "code",
      "source": [
        "import torch.optim as optim\n",
        "criterion = nn.MSELoss()\n",
        "optimizer = optim.SGD(net.parameters(), lr=0.0001)\n"
      ],
      "execution_count": 0,
      "outputs": []
    },
    {
      "metadata": {
        "id": "Cm3nPEXDPfxi",
        "colab_type": "code",
        "colab": {}
      },
      "cell_type": "code",
      "source": [
        "iterations = 0\n",
        "distances = []\n",
        "iterationNumbers = []\n",
        "num_batches = 250\n",
        "epochs = 100\n",
        "for epoch in range(epochs):  # loop over the dataset multiple times\n",
        "    running_loss = 0.0\n",
        "    for i, data in enumerate(trainloader, 0):\n",
        "      # get the inputs\n",
        "      features, values = data\n",
        "      \n",
        "      # zero the parameter gradients\n",
        "      optimizer.zero_grad()\n",
        "      \n",
        "      # forward + backward + optimize\n",
        "      outputlist = []\n",
        "      for feature in features:\n",
        "        outputlist.append(net(feature))\n",
        "      outputs = torch.stack([j for j in outputlist])\n",
        "      loss = criterion(outputs, values)\n",
        "      loss.backward()\n",
        "      optimizer.step()\n",
        "\n",
        "      # print statistics\n",
        "      running_loss += loss.item()\n",
        "      \n",
        "      if i % num_batches == (num_batches - 1):\n",
        "        # find the distance between parameters\n",
        "        params = list(net.parameters())\n",
        "        studentW1 = params[0]\n",
        "        teacherW1 = teacher.getWeights()\n",
        "        distance = np.linalg.norm(studentW1.data.numpy() - teacherW1.data.numpy()) \n",
        "        studentW1Norm = np.linalg.norm(studentW1.data.numpy())\n",
        "        distances.append(distance)\n",
        "        iterationNumbers.append(iterations)\n",
        "        print('[%d, %5d] loss: %.3f, distance: %.4f, norm1: %.3f' %\n",
        "            (epoch + 1, i + 1, running_loss/num_batches, distance, \n",
        "            studentW1Norm))\n",
        "        running_loss = 0.0\n",
        "      iterations += 1\n",
        "\n",
        "print('Finished Training')"
      ],
      "execution_count": 0,
      "outputs": []
    },
    {
      "metadata": {
        "id": "goEkFj3QI_rO",
        "colab_type": "code",
        "colab": {
          "base_uri": "https://localhost:8080/",
          "height": 34
        },
        "outputId": "2b927398-be50-4953-e937-e3c30235a085"
      },
      "cell_type": "code",
      "source": [
        "\n",
        "len(iterationNumbers)"
      ],
      "execution_count": 36,
      "outputs": [
        {
          "output_type": "execute_result",
          "data": {
            "text/plain": [
              "200"
            ]
          },
          "metadata": {
            "tags": []
          },
          "execution_count": 36
        }
      ]
    },
    {
      "metadata": {
        "id": "U-ZuZI5sTQha",
        "colab_type": "code",
        "colab": {
          "base_uri": "https://localhost:8080/",
          "height": 34
        },
        "outputId": "fa7eb691-c5f7-4d43-b5ee-01ea0083255b"
      },
      "cell_type": "code",
      "source": [
        "len(distances)"
      ],
      "execution_count": 37,
      "outputs": [
        {
          "output_type": "execute_result",
          "data": {
            "text/plain": [
              "200"
            ]
          },
          "metadata": {
            "tags": []
          },
          "execution_count": 37
        }
      ]
    },
    {
      "metadata": {
        "id": "gKeSvGx5TWgS",
        "colab_type": "code",
        "colab": {
          "base_uri": "https://localhost:8080/",
          "height": 376
        },
        "outputId": "35881000-1976-4f0f-91e2-dd0ceee20116"
      },
      "cell_type": "code",
      "source": [
        "import matplotlib.pylab as plt\n",
        "plt.plot(iterationNumbers, distances)\n",
        "plt.title(\"Frobenius distance between student weights and teacher weights\")\n",
        "plt.xlabel(\"Batch number\")\n",
        "plt.ylabel(\"Distance between weights\")\n",
        "plt.show()"
      ],
      "execution_count": 39,
      "outputs": [
        {
          "output_type": "display_data",
          "data": {
            "image/png": "[encoded data removed]",
            "text/plain": [
              "<matplotlib.figure.Figure at 0x7f3ef67a9510>"
            ]
          },
          "metadata": {
            "tags": []
          }
        }
      ]
    },
    {
      "metadata": {
        "id": "fu2aefnTUqOf",
        "colab_type": "text"
      },
      "cell_type": "markdown",
      "source": [
        "# Try it on a true ResNet block\n",
        "Architecture is W2Relu(W1x) + x"
      ]
    },
    {
      "metadata": {
        "id": "v6KBpH6XUfCy",
        "colab_type": "code",
        "colab": {}
      },
      "cell_type": "code",
      "source": [
        "import torch\n",
        "import torch.nn as nn\n",
        "import torch.nn.functional as F\n",
        "import torch.utils.data\n",
        "import torch.utils.data as utils\n",
        "import torch.optim as optim\n",
        "\n",
        "class Net(nn.Module):\n",
        "\n",
        "    def __init__(self, d):\n",
        "        super(Net, self).__init__()\n",
        "        self.fc1 = nn.Linear(d, d, bias = False)\n",
        "        self.fc2 = nn.Linear(d, d, bias = False)\n",
        "        \n",
        "    def forward(self, x):\n",
        "        y = self.fc1(x)\n",
        "        y = F.relu(x)\n",
        "        y = self.fc2(x)\n",
        "        x = y + x\n",
        "        return torch.sum(x)\n",
        "\n",
        "class TeacherNet(object):\n",
        "  def __init__(self, d):\n",
        "    self.W1 = torch.randn(d,d)\n",
        "    self.W2 = torch.randn(d,d)\n",
        "  def compute(self, x):\n",
        "    return torch.sum(torch.mv(self.W2, F.relu(torch.mv(self.W1, x))) + x)\n",
        "  def getWeights(self):\n",
        "    return (self.W1, self.W2)\n",
        "\n",
        "class MyDataset(torch.utils.data.Dataset):\n",
        "  def __init__(self, featureList, outputList):\n",
        "    self.featureList = featureList\n",
        "    self.outputList = outputList\n",
        "    assert len(featureList) == len(outputList)\n",
        "  def __getitem__(self,idx):\n",
        "    return self.featureList[idx], self.outputList[idx]\n",
        "  def __len__(self):\n",
        "    return len(self.featureList)"
      ],
      "execution_count": 0,
      "outputs": []
    },
    {
      "metadata": {
        "id": "rA897xU_TpSr",
        "colab_type": "code",
        "colab": {}
      },
      "cell_type": "code",
      "source": [
        "d = 1\n",
        "net = Net(d)\n",
        "teacher = TeacherNet(d)\n",
        "import numpy as np\n",
        "\n",
        "inputs = []\n",
        "trueOutputs = []\n",
        "for i in range(100000):\n",
        "  # x is sampled N 0,1\n",
        "  x = np.random.multivariate_normal(np.zeros(d), np.identity(d))\n",
        "  x = torch.from_numpy(x)\n",
        "  x = x.float()\n",
        "  y = teacher.compute(x)\n",
        "  inputs.append(x)\n",
        "  trueOutputs.append(y)\n",
        "  \n",
        "dataset = MyDataset(inputs, trueOutputs)\n",
        "trainloader = utils.DataLoader(dataset, batch_size = 200,\n",
        "                               shuffle = True, num_workers = 2)\n",
        "criterion = nn.MSELoss()\n",
        "optimizer = optim.SGD(net.parameters(), lr=0.0001)"
      ],
      "execution_count": 0,
      "outputs": []
    },
    {
      "metadata": {
        "id": "7NANfTZVWwMM",
        "colab_type": "code",
        "colab": {}
      },
      "cell_type": "code",
      "source": [
        "iterations = 0\n",
        "distances = []\n",
        "iterationNumbers = []\n",
        "num_batches = 250\n",
        "epochs = 100\n",
        "for epoch in range(epochs):  # loop over the dataset multiple times\n",
        "    running_loss = 0.0\n",
        "    for i, data in enumerate(trainloader, 0):\n",
        "      # get the inputs\n",
        "      features, values = data\n",
        "      \n",
        "      # zero the parameter gradients\n",
        "      optimizer.zero_grad()\n",
        "      \n",
        "      # forward + backward + optimize\n",
        "      outputlist = []\n",
        "      for feature in features:\n",
        "        outputlist.append(net(feature))\n",
        "      outputs = torch.stack([j for j in outputlist])\n",
        "      loss = criterion(outputs, values)\n",
        "      loss.backward()\n",
        "      optimizer.step()\n",
        "\n",
        "      # print statistics\n",
        "      running_loss += loss.item()\n",
        "      \n",
        "      if i % num_batches == (num_batches - 1):\n",
        "        # find the distance between parameters\n",
        "        params = list(net.parameters())\n",
        "        studentW1 = params[0]\n",
        "        studentW2 = params[1]\n",
        "        (teacherW1, teacherW2) = teacher.getWeights()\n",
        "        distance = np.linalg.norm(studentW1.data.numpy() - teacherW1.data.numpy()) + np.linalg.norm(studentW2.data.numpy() - teacherW2.data.numpy())\n",
        "        studentW1Norm = np.linalg.norm(studentW1.data.numpy())\n",
        "        studentW2Norm = np.linalg.norm(studentW2.data.numpy())\n",
        "        distances.append(distance)\n",
        "        iterationNumbers.append(iterations)\n",
        "        print('[%d, %5d] loss: %.3f, distance: %.4f, norm1: %.3f, norm2: %.3f' %\n",
        "            (epoch + 1, i + 1, running_loss/num_batches, distance, \n",
        "            studentW1Norm, studentW2Norm))\n",
        "        running_loss = 0.0\n",
        "      iterations += 1\n",
        "\n",
        "print('Finished Training')\n"
      ],
      "execution_count": 0,
      "outputs": []
    },
    {
      "metadata": {
        "id": "Q6i5y557c2k6",
        "colab_type": "code",
        "colab": {
          "base_uri": "https://localhost:8080/",
          "height": 376
        },
        "outputId": "5231c571-b621-4198-c076-0e5aa5bed051"
      },
      "cell_type": "code",
      "source": [
        "import matplotlib.pylab as plt\n",
        "plt.plot(iterationNumbers, distances)\n",
        "plt.title(\"Frobenius distance between student weights and teacher weights for real resnet block\")\n",
        "plt.xlabel(\"Batch number\")\n",
        "plt.ylabel(\"Distance between weights\")\n",
        "plt.show()"
      ],
      "execution_count": 65,
      "outputs": [
        {
          "output_type": "display_data",
          "data": {
            "image/png": "[encoded data removed]",
            "text/plain": [
              "<matplotlib.figure.Figure at 0x7f3ef4761c50>"
            ]
          },
          "metadata": {
            "tags": []
          }
        }
      ]
    },
    {
      "metadata": {
        "id": "v1lULCC4JlD6",
        "colab_type": "text"
      },
      "cell_type": "markdown",
      "source": [
        "# Try Yuanzhi's architecture on a ResNet teacher network, use its weight to initialize"
      ]
    },
    {
      "metadata": {
        "id": "Y8yfEHezJc6G",
        "colab_type": "code",
        "colab": {}
      },
      "cell_type": "code",
      "source": [
        "import torch\n",
        "import torch.nn as nn\n",
        "import torch.nn.functional as F\n",
        "import torch.utils.data\n",
        "import torch.utils.data as utils\n",
        "import torch.optim as optim\n",
        "\n",
        "class Net(nn.Module):\n",
        "\n",
        "    def __init__(self, d):\n",
        "        super(Net, self).__init__()\n",
        "        self.fc1 = nn.Linear(d, d, bias = False)\n",
        "        self.fc2 = nn.Linear(d, d, bias = False)\n",
        "        \n",
        "    def forward(self, x):\n",
        "        y = self.fc1(x)\n",
        "        y = F.relu(x)\n",
        "        y = self.fc2(x)\n",
        "        x = y + x\n",
        "        return torch.sum(x)\n",
        "\n",
        "class yuanzhiNet(nn.Module):\n",
        "\n",
        "    def __init__(self, d):\n",
        "        super(yuanzhiNet, self).__init__()\n",
        "        self.fc = nn.Linear(d, d, bias = False)\n",
        "        \n",
        "    def forward(self, x):\n",
        "        y = F.relu(self.fc(x) + x)\n",
        "        return torch.sum(y)\n",
        "\n",
        "\n",
        "\n",
        "class TeacherNet(object):\n",
        "  def __init__(self, d):\n",
        "    self.W1 = torch.randn(d,d)\n",
        "    self.W2 = torch.randn(d,d)\n",
        "  def compute(self, x):\n",
        "    return torch.sum(torch.mv(self.W2, F.relu(torch.mv(self.W1, x))) + x)\n",
        "  def getWeights(self):\n",
        "    return (self.W1, self.W2)\n",
        "\n",
        "class MyDataset(torch.utils.data.Dataset):\n",
        "  def __init__(self, featureList, outputList):\n",
        "    self.featureList = featureList\n",
        "    self.outputList = outputList\n",
        "    assert len(featureList) == len(outputList)\n",
        "  def __getitem__(self,idx):\n",
        "    return self.featureList[idx], self.outputList[idx]\n",
        "  def __len__(self):\n",
        "    return len(self.featureList)"
      ],
      "execution_count": 0,
      "outputs": []
    },
    {
      "metadata": {
        "id": "FVsBjV-PjeBk",
        "colab_type": "code",
        "colab": {}
      },
      "cell_type": "code",
      "source": [
        "d = 1\n",
        "net = Net(d)\n",
        "yuanzhinet = yuanzhiNet(d)\n",
        "teacher = TeacherNet(d)\n",
        "import numpy as np\n",
        "\n",
        "inputs = []\n",
        "trueOutputs = []\n",
        "for i in range(100000):\n",
        "  # x is sampled N 0,1\n",
        "  x = np.random.multivariate_normal(np.zeros(d), np.identity(d))\n",
        "  x = torch.from_numpy(x)\n",
        "  x = x.float()\n",
        "  y = teacher.compute(x)\n",
        "  inputs.append(x)\n",
        "  trueOutputs.append(y)\n",
        "  \n",
        "dataset = MyDataset(inputs, trueOutputs)\n",
        "trainloader = utils.DataLoader(dataset, batch_size = 200,\n",
        "                               shuffle = True, num_workers = 2)\n",
        "criterion = nn.MSELoss()\n",
        "optimizer = optim.SGD(yuanzhinet.parameters(), lr=0.0001)"
      ],
      "execution_count": 0,
      "outputs": []
    },
    {
      "metadata": {
        "id": "HI-PlcizKQlt",
        "colab_type": "code",
        "colab": {}
      },
      "cell_type": "code",
      "source": [
        "iterations = 0\n",
        "losses = []\n",
        "iterationNumbers = []\n",
        "num_batches = 250\n",
        "epochs = 100\n",
        "for epoch in range(epochs):  # loop over the dataset multiple times\n",
        "    running_loss = 0.0\n",
        "    for i, data in enumerate(trainloader, 0):\n",
        "      # get the inputs\n",
        "      features, values = data\n",
        "      \n",
        "      # zero the parameter gradients\n",
        "      optimizer.zero_grad()\n",
        "      \n",
        "      # forward + backward + optimize\n",
        "      outputlist = []\n",
        "      for feature in features:\n",
        "        outputlist.append(yuanzhinet(feature))\n",
        "      outputs = torch.stack([j for j in outputlist])\n",
        "      loss = criterion(outputs, values)\n",
        "      loss.backward()\n",
        "      optimizer.step()\n",
        "\n",
        "      # print statistics\n",
        "      running_loss += loss.item()\n",
        "      \n",
        "      if i % num_batches == (num_batches - 1):\n",
        "        # find the distance between parameters\n",
        "        iterationNumbers.append(iterations)\n",
        "        losses.append(running_loss/num_batches)\n",
        "        print('[%d, %5d] loss: %.3f' %\n",
        "            (epoch + 1, i + 1, running_loss/num_batches))\n",
        "        running_loss = 0.0\n",
        "      iterations += 1\n",
        "\n",
        "print('Finished Training')"
      ],
      "execution_count": 0,
      "outputs": []
    },
    {
      "metadata": {
        "id": "BswQXB2ZLXRW",
        "colab_type": "code",
        "colab": {
          "base_uri": "https://localhost:8080/",
          "height": 361
        },
        "outputId": "a2caec77-365c-4ecb-cd69-e58103119dda"
      },
      "cell_type": "code",
      "source": [
        "import matplotlib.pylab as plt\n",
        "plt.plot(iterationNumbers, losses)\n",
        "plt.xlabel(\"Batch number\")\n",
        "plt.ylabel(\"Loss\")\n",
        "plt.show()"
      ],
      "execution_count": 14,
      "outputs": [
        {
          "output_type": "display_data",
          "data": {
            "image/png": "[encoded data removed]",
            "text/plain": [
              "<matplotlib.figure.Figure at 0x7fc824d6af90>"
            ]
          },
          "metadata": {
            "tags": []
          }
        }
      ]
    },
    {
      "metadata": {
        "id": "L9lZSaywTJNN",
        "colab_type": "code",
        "colab": {
          "base_uri": "https://localhost:8080/",
          "height": 34
        },
        "outputId": "c83592aa-728e-4514-d4f2-972af6e4dce6"
      },
      "cell_type": "code",
      "source": [
        "teacher.getWeights()"
      ],
      "execution_count": 18,
      "outputs": [
        {
          "output_type": "execute_result",
          "data": {
            "text/plain": [
              "(tensor([[-0.9384]]), tensor([[-2.6461]]))"
            ]
          },
          "metadata": {
            "tags": []
          },
          "execution_count": 18
        }
      ]
    },
    {
      "metadata": {
        "id": "nHRTkvXKV8tp",
        "colab_type": "code",
        "colab": {}
      },
      "cell_type": "code",
      "source": [
        "yuanzhiparam = list(yuanzhinet.parameters())[0].data"
      ],
      "execution_count": 0,
      "outputs": []
    },
    {
      "metadata": {
        "id": "qk8lSWNPdEls",
        "colab_type": "code",
        "colab": {}
      },
      "cell_type": "code",
      "source": [
        "yuanzhiparam =  np.asscalar(yuanzhiparam)"
      ],
      "execution_count": 0,
      "outputs": []
    },
    {
      "metadata": {
        "id": "RD-cUCNcWBmy",
        "colab_type": "code",
        "colab": {
          "base_uri": "https://localhost:8080/",
          "height": 68
        },
        "outputId": "0d369e07-7d94-4dc7-ac60-9235096d83f2"
      },
      "cell_type": "code",
      "source": [
        "net = Net(d)\n",
        "\n"
      ],
      "execution_count": 23,
      "outputs": [
        {
          "output_type": "execute_result",
          "data": {
            "text/plain": [
              "[Parameter containing:\n",
              " tensor([[-0.8312]], requires_grad=True), Parameter containing:\n",
              " tensor([[-0.9125]], requires_grad=True)]"
            ]
          },
          "metadata": {
            "tags": []
          },
          "execution_count": 23
        }
      ]
    },
    {
      "metadata": {
        "id": "Cid0eOcXb8y3",
        "colab_type": "code",
        "colab": {}
      },
      "cell_type": "code",
      "source": [
        "#nn.init.constant(net.named_parameters()[0], yuanzhiparam)\n",
        "for name, param in net.named_parameters():\n",
        "  nn.init.constant_(param, yuanzhiparam)"
      ],
      "execution_count": 0,
      "outputs": []
    },
    {
      "metadata": {
        "id": "VRip-7SNfEUr",
        "colab_type": "code",
        "colab": {
          "base_uri": "https://localhost:8080/",
          "height": 68
        },
        "outputId": "67ed8ea8-7bf2-49ab-e879-d7b9f9614c10"
      },
      "cell_type": "code",
      "source": [
        "list(net.parameters())"
      ],
      "execution_count": 46,
      "outputs": [
        {
          "output_type": "execute_result",
          "data": {
            "text/plain": [
              "[Parameter containing:\n",
              " tensor([[0.0035]], requires_grad=True), Parameter containing:\n",
              " tensor([[0.0035]], requires_grad=True)]"
            ]
          },
          "metadata": {
            "tags": []
          },
          "execution_count": 46
        }
      ]
    },
    {
      "metadata": {
        "id": "obVmBf-2bpnO",
        "colab_type": "code",
        "colab": {
          "base_uri": "https://localhost:8080/",
          "height": 3434
        },
        "outputId": "424ce649-4ce9-43d6-9d0e-1511f3fff597"
      },
      "cell_type": "code",
      "source": [
        "optimizer = optim.SGD(net.parameters(), lr=0.0001)\n",
        "iterations = 0\n",
        "distances = []\n",
        "iterationNumbers = []\n",
        "num_batches = 250\n",
        "epochs = 100\n",
        "for epoch in range(epochs):  # loop over the dataset multiple times\n",
        "    running_loss = 0.0\n",
        "    for i, data in enumerate(trainloader, 0):\n",
        "      # get the inputs\n",
        "      features, values = data\n",
        "      \n",
        "      # zero the parameter gradients\n",
        "      optimizer.zero_grad()\n",
        "      \n",
        "      # forward + backward + optimize\n",
        "      outputlist = []\n",
        "      for feature in features:\n",
        "        outputlist.append(net(feature))\n",
        "      outputs = torch.stack([j for j in outputlist])\n",
        "      loss = criterion(outputs, values)\n",
        "      loss.backward()\n",
        "      optimizer.step()\n",
        "\n",
        "      # print statistics\n",
        "      running_loss += loss.item()\n",
        "      \n",
        "      if i % num_batches == (num_batches - 1):\n",
        "        # find the distance between parameters\n",
        "        params = list(net.parameters())\n",
        "        studentW1 = params[0]\n",
        "        studentW2 = params[1]\n",
        "        (teacherW1, teacherW2) = teacher.getWeights()\n",
        "        distance = np.linalg.norm(studentW1.data.numpy() - teacherW1.data.numpy()) + np.linalg.norm(studentW2.data.numpy() - teacherW2.data.numpy())\n",
        "        studentW1Norm = np.linalg.norm(studentW1.data.numpy())\n",
        "        studentW2Norm = np.linalg.norm(studentW2.data.numpy())\n",
        "        distances.append(distance)\n",
        "        iterationNumbers.append(iterations)\n",
        "        print('[%d, %5d] loss: %.3f, distance: %.4f, norm1: %.3f, norm2: %.3f' %\n",
        "            (epoch + 1, i + 1, running_loss/num_batches, distance, \n",
        "            studentW1Norm, studentW2Norm))\n",
        "        running_loss = 0.0\n",
        "      iterations += 1\n",
        "\n",
        "print('Finished Training')"
      ],
      "execution_count": 48,
      "outputs": [
        {
          "output_type": "stream",
          "text": [
            "[1,   250] loss: 2.850, distance: 3.7090, norm1: 0.004, norm2: 0.121\n",
            "[1,   500] loss: 2.746, distance: 3.7638, norm1: 0.004, norm2: 0.176\n",
            "[2,   250] loss: 2.619, distance: 3.8157, norm1: 0.004, norm2: 0.228\n",
            "[2,   500] loss: 2.521, distance: 3.8652, norm1: 0.004, norm2: 0.277\n",
            "[3,   250] loss: 2.445, distance: 3.9126, norm1: 0.004, norm2: 0.325\n",
            "[3,   500] loss: 2.322, distance: 3.9569, norm1: 0.004, norm2: 0.369\n",
            "[4,   250] loss: 2.259, distance: 3.9992, norm1: 0.004, norm2: 0.411\n",
            "[4,   500] loss: 2.203, distance: 4.0399, norm1: 0.004, norm2: 0.452\n",
            "[5,   250] loss: 2.142, distance: 4.0786, norm1: 0.004, norm2: 0.491\n",
            "[5,   500] loss: 2.070, distance: 4.1149, norm1: 0.004, norm2: 0.527\n",
            "[6,   250] loss: 2.033, distance: 4.1497, norm1: 0.004, norm2: 0.562\n",
            "[6,   500] loss: 1.975, distance: 4.1828, norm1: 0.004, norm2: 0.595\n",
            "[7,   250] loss: 1.953, distance: 4.2147, norm1: 0.004, norm2: 0.627\n",
            "[7,   500] loss: 1.888, distance: 4.2443, norm1: 0.004, norm2: 0.656\n",
            "[8,   250] loss: 1.879, distance: 4.2730, norm1: 0.004, norm2: 0.685\n",
            "[8,   500] loss: 1.825, distance: 4.2999, norm1: 0.004, norm2: 0.712\n",
            "[9,   250] loss: 1.799, distance: 4.3253, norm1: 0.004, norm2: 0.737\n",
            "[9,   500] loss: 1.792, distance: 4.3502, norm1: 0.004, norm2: 0.762\n",
            "[10,   250] loss: 1.761, distance: 4.3735, norm1: 0.004, norm2: 0.786\n",
            "[10,   500] loss: 1.739, distance: 4.3957, norm1: 0.004, norm2: 0.808\n",
            "[11,   250] loss: 1.714, distance: 4.4165, norm1: 0.004, norm2: 0.829\n",
            "[11,   500] loss: 1.710, distance: 4.4369, norm1: 0.004, norm2: 0.849\n",
            "[12,   250] loss: 1.685, distance: 4.4557, norm1: 0.004, norm2: 0.868\n",
            "[12,   500] loss: 1.678, distance: 4.4742, norm1: 0.004, norm2: 0.886\n",
            "[13,   250] loss: 1.677, distance: 4.4917, norm1: 0.004, norm2: 0.904\n",
            "[13,   500] loss: 1.636, distance: 4.5079, norm1: 0.004, norm2: 0.920\n",
            "[14,   250] loss: 1.644, distance: 4.5234, norm1: 0.004, norm2: 0.935\n",
            "[14,   500] loss: 1.627, distance: 4.5384, norm1: 0.004, norm2: 0.950\n",
            "[15,   250] loss: 1.632, distance: 4.5528, norm1: 0.004, norm2: 0.965\n",
            "[15,   500] loss: 1.606, distance: 4.5660, norm1: 0.004, norm2: 0.978\n",
            "[16,   250] loss: 1.602, distance: 4.5783, norm1: 0.004, norm2: 0.990\n",
            "[16,   500] loss: 1.608, distance: 4.5910, norm1: 0.004, norm2: 1.003\n",
            "[17,   250] loss: 1.605, distance: 4.6028, norm1: 0.004, norm2: 1.015\n",
            "[17,   500] loss: 1.583, distance: 4.6135, norm1: 0.004, norm2: 1.026\n",
            "[18,   250] loss: 1.592, distance: 4.6241, norm1: 0.004, norm2: 1.036\n",
            "[18,   500] loss: 1.577, distance: 4.6340, norm1: 0.004, norm2: 1.046\n",
            "[19,   250] loss: 1.586, distance: 4.6439, norm1: 0.004, norm2: 1.056\n",
            "[19,   500] loss: 1.568, distance: 4.6524, norm1: 0.004, norm2: 1.064\n",
            "[20,   250] loss: 1.566, distance: 4.6610, norm1: 0.004, norm2: 1.073\n",
            "[20,   500] loss: 1.575, distance: 4.6691, norm1: 0.004, norm2: 1.081\n",
            "[21,   250] loss: 1.565, distance: 4.6774, norm1: 0.004, norm2: 1.089\n",
            "[21,   500] loss: 1.566, distance: 4.6842, norm1: 0.004, norm2: 1.096\n",
            "[22,   250] loss: 1.569, distance: 4.6915, norm1: 0.004, norm2: 1.104\n",
            "[22,   500] loss: 1.554, distance: 4.6979, norm1: 0.004, norm2: 1.110\n",
            "[23,   250] loss: 1.562, distance: 4.7042, norm1: 0.004, norm2: 1.116\n",
            "[23,   500] loss: 1.554, distance: 4.7103, norm1: 0.004, norm2: 1.122\n",
            "[24,   250] loss: 1.553, distance: 4.7154, norm1: 0.004, norm2: 1.127\n",
            "[24,   500] loss: 1.557, distance: 4.7215, norm1: 0.004, norm2: 1.134\n",
            "[25,   250] loss: 1.561, distance: 4.7268, norm1: 0.004, norm2: 1.139\n",
            "[25,   500] loss: 1.545, distance: 4.7317, norm1: 0.004, norm2: 1.144\n",
            "[26,   250] loss: 1.551, distance: 4.7358, norm1: 0.004, norm2: 1.148\n",
            "[26,   500] loss: 1.551, distance: 4.7409, norm1: 0.004, norm2: 1.153\n",
            "[27,   250] loss: 1.537, distance: 4.7447, norm1: 0.004, norm2: 1.157\n",
            "[27,   500] loss: 1.562, distance: 4.7492, norm1: 0.004, norm2: 1.161\n",
            "[28,   250] loss: 1.546, distance: 4.7530, norm1: 0.004, norm2: 1.165\n",
            "[28,   500] loss: 1.551, distance: 4.7567, norm1: 0.004, norm2: 1.169\n",
            "[29,   250] loss: 1.553, distance: 4.7602, norm1: 0.004, norm2: 1.172\n",
            "[29,   500] loss: 1.541, distance: 4.7635, norm1: 0.004, norm2: 1.176\n",
            "[30,   250] loss: 1.550, distance: 4.7669, norm1: 0.004, norm2: 1.179\n",
            "[30,   500] loss: 1.543, distance: 4.7696, norm1: 0.004, norm2: 1.182\n",
            "[31,   250] loss: 1.537, distance: 4.7721, norm1: 0.004, norm2: 1.184\n",
            "[31,   500] loss: 1.555, distance: 4.7752, norm1: 0.004, norm2: 1.187\n",
            "[32,   250] loss: 1.549, distance: 4.7778, norm1: 0.004, norm2: 1.190\n",
            "[32,   500] loss: 1.542, distance: 4.7802, norm1: 0.004, norm2: 1.192\n",
            "[33,   250] loss: 1.544, distance: 4.7826, norm1: 0.004, norm2: 1.195\n",
            "[33,   500] loss: 1.546, distance: 4.7847, norm1: 0.004, norm2: 1.197\n",
            "[34,   250] loss: 1.543, distance: 4.7863, norm1: 0.004, norm2: 1.198\n",
            "[34,   500] loss: 1.546, distance: 4.7889, norm1: 0.004, norm2: 1.201\n",
            "[35,   250] loss: 1.536, distance: 4.7907, norm1: 0.004, norm2: 1.203\n",
            "[35,   500] loss: 1.552, distance: 4.7926, norm1: 0.004, norm2: 1.205\n",
            "[36,   250] loss: 1.537, distance: 4.7940, norm1: 0.004, norm2: 1.206\n",
            "[36,   500] loss: 1.550, distance: 4.7960, norm1: 0.004, norm2: 1.208\n",
            "[37,   250] loss: 1.543, distance: 4.7979, norm1: 0.004, norm2: 1.210\n",
            "[37,   500] loss: 1.544, distance: 4.7990, norm1: 0.004, norm2: 1.211\n",
            "[38,   250] loss: 1.541, distance: 4.8002, norm1: 0.004, norm2: 1.212\n",
            "[38,   500] loss: 1.546, distance: 4.8018, norm1: 0.004, norm2: 1.214\n",
            "[39,   250] loss: 1.543, distance: 4.8034, norm1: 0.004, norm2: 1.215\n",
            "[39,   500] loss: 1.544, distance: 4.8043, norm1: 0.004, norm2: 1.216\n",
            "[40,   250] loss: 1.547, distance: 4.8052, norm1: 0.004, norm2: 1.217\n",
            "[40,   500] loss: 1.540, distance: 4.8065, norm1: 0.004, norm2: 1.219\n",
            "[41,   250] loss: 1.545, distance: 4.8073, norm1: 0.004, norm2: 1.219\n",
            "[41,   500] loss: 1.541, distance: 4.8086, norm1: 0.004, norm2: 1.221\n",
            "[42,   250] loss: 1.540, distance: 4.8089, norm1: 0.004, norm2: 1.221\n",
            "[42,   500] loss: 1.547, distance: 4.8105, norm1: 0.004, norm2: 1.223\n",
            "[43,   250] loss: 1.563, distance: 4.8113, norm1: 0.004, norm2: 1.223\n",
            "[43,   500] loss: 1.523, distance: 4.8122, norm1: 0.004, norm2: 1.224\n",
            "[44,   250] loss: 1.548, distance: 4.8131, norm1: 0.004, norm2: 1.225\n",
            "[44,   500] loss: 1.537, distance: 4.8137, norm1: 0.004, norm2: 1.226\n",
            "[45,   250] loss: 1.531, distance: 4.8141, norm1: 0.004, norm2: 1.226\n",
            "[45,   500] loss: 1.555, distance: 4.8150, norm1: 0.004, norm2: 1.227\n",
            "[46,   250] loss: 1.542, distance: 4.8152, norm1: 0.004, norm2: 1.227\n",
            "[46,   500] loss: 1.544, distance: 4.8163, norm1: 0.004, norm2: 1.228\n",
            "[47,   250] loss: 1.547, distance: 4.8167, norm1: 0.004, norm2: 1.229\n",
            "[47,   500] loss: 1.539, distance: 4.8174, norm1: 0.004, norm2: 1.229\n",
            "[48,   250] loss: 1.550, distance: 4.8181, norm1: 0.004, norm2: 1.230\n",
            "[48,   500] loss: 1.536, distance: 4.8184, norm1: 0.004, norm2: 1.230\n",
            "[49,   250] loss: 1.547, distance: 4.8189, norm1: 0.004, norm2: 1.231\n",
            "[49,   500] loss: 1.539, distance: 4.8193, norm1: 0.004, norm2: 1.231\n",
            "[50,   250] loss: 1.535, distance: 4.8199, norm1: 0.004, norm2: 1.232\n",
            "[50,   500] loss: 1.550, distance: 4.8201, norm1: 0.004, norm2: 1.232\n",
            "[51,   250] loss: 1.532, distance: 4.8203, norm1: 0.004, norm2: 1.232\n",
            "[51,   500] loss: 1.553, distance: 4.8209, norm1: 0.004, norm2: 1.233\n",
            "[52,   250] loss: 1.542, distance: 4.8214, norm1: 0.004, norm2: 1.233\n",
            "[52,   500] loss: 1.544, distance: 4.8215, norm1: 0.004, norm2: 1.234\n",
            "[53,   250] loss: 1.540, distance: 4.8219, norm1: 0.004, norm2: 1.234\n",
            "[53,   500] loss: 1.546, distance: 4.8221, norm1: 0.004, norm2: 1.234\n",
            "[54,   250] loss: 1.534, distance: 4.8227, norm1: 0.004, norm2: 1.235\n",
            "[54,   500] loss: 1.552, distance: 4.8227, norm1: 0.004, norm2: 1.235\n",
            "[55,   250] loss: 1.536, distance: 4.8226, norm1: 0.004, norm2: 1.235\n",
            "[55,   500] loss: 1.549, distance: 4.8232, norm1: 0.004, norm2: 1.235\n",
            "[56,   250] loss: 1.546, distance: 4.8234, norm1: 0.004, norm2: 1.236\n",
            "[56,   500] loss: 1.540, distance: 4.8237, norm1: 0.004, norm2: 1.236\n",
            "[57,   250] loss: 1.546, distance: 4.8239, norm1: 0.004, norm2: 1.236\n",
            "[57,   500] loss: 1.539, distance: 4.8240, norm1: 0.004, norm2: 1.236\n",
            "[58,   250] loss: 1.535, distance: 4.8244, norm1: 0.004, norm2: 1.236\n",
            "[58,   500] loss: 1.551, distance: 4.8244, norm1: 0.004, norm2: 1.236\n",
            "[59,   250] loss: 1.543, distance: 4.8250, norm1: 0.004, norm2: 1.237\n",
            "[59,   500] loss: 1.542, distance: 4.8248, norm1: 0.004, norm2: 1.237\n",
            "[60,   250] loss: 1.531, distance: 4.8254, norm1: 0.004, norm2: 1.237\n",
            "[60,   500] loss: 1.554, distance: 4.8251, norm1: 0.004, norm2: 1.237\n",
            "[61,   250] loss: 1.545, distance: 4.8255, norm1: 0.004, norm2: 1.238\n",
            "[61,   500] loss: 1.541, distance: 4.8253, norm1: 0.004, norm2: 1.237\n",
            "[62,   250] loss: 1.552, distance: 4.8266, norm1: 0.004, norm2: 1.239\n",
            "[62,   500] loss: 1.533, distance: 4.8255, norm1: 0.004, norm2: 1.238\n",
            "[63,   250] loss: 1.548, distance: 4.8254, norm1: 0.004, norm2: 1.237\n",
            "[63,   500] loss: 1.538, distance: 4.8258, norm1: 0.004, norm2: 1.238\n",
            "[64,   250] loss: 1.538, distance: 4.8262, norm1: 0.004, norm2: 1.238\n",
            "[64,   500] loss: 1.547, distance: 4.8260, norm1: 0.004, norm2: 1.238\n",
            "[65,   250] loss: 1.561, distance: 4.8261, norm1: 0.004, norm2: 1.238\n",
            "[65,   500] loss: 1.524, distance: 4.8262, norm1: 0.004, norm2: 1.238\n",
            "[66,   250] loss: 1.548, distance: 4.8261, norm1: 0.004, norm2: 1.238\n",
            "[66,   500] loss: 1.537, distance: 4.8264, norm1: 0.004, norm2: 1.238\n",
            "[67,   250] loss: 1.548, distance: 4.8266, norm1: 0.004, norm2: 1.239\n",
            "[67,   500] loss: 1.538, distance: 4.8265, norm1: 0.004, norm2: 1.239\n",
            "[68,   250] loss: 1.535, distance: 4.8266, norm1: 0.004, norm2: 1.239\n",
            "[68,   500] loss: 1.551, distance: 4.8267, norm1: 0.004, norm2: 1.239\n",
            "[69,   250] loss: 1.545, distance: 4.8262, norm1: 0.004, norm2: 1.238\n",
            "[69,   500] loss: 1.540, distance: 4.8268, norm1: 0.004, norm2: 1.239\n",
            "[70,   250] loss: 1.549, distance: 4.8269, norm1: 0.004, norm2: 1.239\n",
            "[70,   500] loss: 1.537, distance: 4.8269, norm1: 0.004, norm2: 1.239\n",
            "[71,   250] loss: 1.535, distance: 4.8269, norm1: 0.004, norm2: 1.239\n",
            "[71,   500] loss: 1.550, distance: 4.8270, norm1: 0.004, norm2: 1.239\n",
            "[72,   250] loss: 1.543, distance: 4.8274, norm1: 0.004, norm2: 1.239\n",
            "[72,   500] loss: 1.543, distance: 4.8271, norm1: 0.004, norm2: 1.239\n",
            "[73,   250] loss: 1.547, distance: 4.8272, norm1: 0.004, norm2: 1.239\n",
            "[73,   500] loss: 1.538, distance: 4.8272, norm1: 0.004, norm2: 1.239\n",
            "[74,   250] loss: 1.536, distance: 4.8274, norm1: 0.004, norm2: 1.239\n",
            "[74,   500] loss: 1.549, distance: 4.8273, norm1: 0.004, norm2: 1.239\n",
            "[75,   250] loss: 1.541, distance: 4.8276, norm1: 0.004, norm2: 1.240\n",
            "[75,   500] loss: 1.545, distance: 4.8273, norm1: 0.004, norm2: 1.239\n",
            "[76,   250] loss: 1.535, distance: 4.8269, norm1: 0.004, norm2: 1.239\n",
            "[76,   500] loss: 1.550, distance: 4.8274, norm1: 0.004, norm2: 1.239\n",
            "[77,   250] loss: 1.542, distance: 4.8283, norm1: 0.004, norm2: 1.240\n",
            "[77,   500] loss: 1.543, distance: 4.8274, norm1: 0.004, norm2: 1.239\n",
            "[78,   250] loss: 1.546, distance: 4.8274, norm1: 0.004, norm2: 1.239\n",
            "[78,   500] loss: 1.539, distance: 4.8275, norm1: 0.004, norm2: 1.240\n",
            "[79,   250] loss: 1.532, distance: 4.8278, norm1: 0.004, norm2: 1.240\n",
            "[79,   500] loss: 1.553, distance: 4.8275, norm1: 0.004, norm2: 1.240\n",
            "[80,   250] loss: 1.534, distance: 4.8276, norm1: 0.004, norm2: 1.240\n",
            "[80,   500] loss: 1.551, distance: 4.8275, norm1: 0.004, norm2: 1.240\n",
            "[81,   250] loss: 1.558, distance: 4.8280, norm1: 0.004, norm2: 1.240\n",
            "[81,   500] loss: 1.527, distance: 4.8276, norm1: 0.004, norm2: 1.240\n",
            "[82,   250] loss: 1.540, distance: 4.8285, norm1: 0.004, norm2: 1.241\n",
            "[82,   500] loss: 1.546, distance: 4.8276, norm1: 0.004, norm2: 1.240\n",
            "[83,   250] loss: 1.531, distance: 4.8274, norm1: 0.004, norm2: 1.239\n",
            "[83,   500] loss: 1.554, distance: 4.8276, norm1: 0.004, norm2: 1.240\n",
            "[84,   250] loss: 1.540, distance: 4.8277, norm1: 0.004, norm2: 1.240\n",
            "[84,   500] loss: 1.546, distance: 4.8276, norm1: 0.004, norm2: 1.240\n",
            "[85,   250] loss: 1.534, distance: 4.8281, norm1: 0.004, norm2: 1.240\n",
            "[85,   500] loss: 1.552, distance: 4.8277, norm1: 0.004, norm2: 1.240\n",
            "[86,   250] loss: 1.545, distance: 4.8276, norm1: 0.004, norm2: 1.240\n",
            "[86,   500] loss: 1.541, distance: 4.8277, norm1: 0.004, norm2: 1.240\n",
            "[87,   250] loss: 1.539, distance: 4.8275, norm1: 0.004, norm2: 1.240\n",
            "[87,   500] loss: 1.546, distance: 4.8277, norm1: 0.004, norm2: 1.240\n",
            "[88,   250] loss: 1.545, distance: 4.8279, norm1: 0.004, norm2: 1.240\n",
            "[88,   500] loss: 1.540, distance: 4.8278, norm1: 0.004, norm2: 1.240\n",
            "[89,   250] loss: 1.554, distance: 4.8282, norm1: 0.004, norm2: 1.240\n",
            "[89,   500] loss: 1.532, distance: 4.8278, norm1: 0.004, norm2: 1.240\n",
            "[90,   250] loss: 1.532, distance: 4.8279, norm1: 0.004, norm2: 1.240\n",
            "[90,   500] loss: 1.553, distance: 4.8278, norm1: 0.004, norm2: 1.240\n",
            "[91,   250] loss: 1.559, distance: 4.8278, norm1: 0.004, norm2: 1.240\n",
            "[91,   500] loss: 1.526, distance: 4.8278, norm1: 0.004, norm2: 1.240\n",
            "[92,   250] loss: 1.540, distance: 4.8282, norm1: 0.004, norm2: 1.240\n",
            "[92,   500] loss: 1.546, distance: 4.8278, norm1: 0.004, norm2: 1.240\n",
            "[93,   250] loss: 1.552, distance: 4.8271, norm1: 0.004, norm2: 1.239\n",
            "[93,   500] loss: 1.533, distance: 4.8279, norm1: 0.004, norm2: 1.240\n",
            "[94,   250] loss: 1.553, distance: 4.8278, norm1: 0.004, norm2: 1.240\n",
            "[94,   500] loss: 1.532, distance: 4.8279, norm1: 0.004, norm2: 1.240\n",
            "[95,   250] loss: 1.543, distance: 4.8276, norm1: 0.004, norm2: 1.240\n",
            "[95,   500] loss: 1.543, distance: 4.8279, norm1: 0.004, norm2: 1.240\n",
            "[96,   250] loss: 1.533, distance: 4.8284, norm1: 0.004, norm2: 1.240\n",
            "[96,   500] loss: 1.553, distance: 4.8279, norm1: 0.004, norm2: 1.240\n",
            "[97,   250] loss: 1.532, distance: 4.8277, norm1: 0.004, norm2: 1.240\n",
            "[97,   500] loss: 1.553, distance: 4.8279, norm1: 0.004, norm2: 1.240\n",
            "[98,   250] loss: 1.537, distance: 4.8278, norm1: 0.004, norm2: 1.240\n",
            "[98,   500] loss: 1.548, distance: 4.8279, norm1: 0.004, norm2: 1.240\n",
            "[99,   250] loss: 1.540, distance: 4.8279, norm1: 0.004, norm2: 1.240\n",
            "[99,   500] loss: 1.546, distance: 4.8279, norm1: 0.004, norm2: 1.240\n",
            "[100,   250] loss: 1.542, distance: 4.8282, norm1: 0.004, norm2: 1.240\n",
            "[100,   500] loss: 1.544, distance: 4.8279, norm1: 0.004, norm2: 1.240\n",
            "Finished Training\n"
          ],
          "name": "stdout"
        }
      ]
    },
    {
      "metadata": {
        "id": "TIMQbU6ufLH8",
        "colab_type": "code",
        "colab": {
          "base_uri": "https://localhost:8080/",
          "height": 361
        },
        "outputId": "c486c715-d0f1-485e-f57b-c690b398de3b"
      },
      "cell_type": "code",
      "source": [
        "import matplotlib.pylab as plt\n",
        "plt.plot(iterationNumbers, distances)\n",
        "plt.xlabel(\"Batch number\")\n",
        "plt.ylabel(\"Distance\")\n",
        "plt.show()"
      ],
      "execution_count": 49,
      "outputs": [
        {
          "output_type": "display_data",
          "data": {
            "image/png": "[encoded data removed]",
            "text/plain": [
              "<matplotlib.figure.Figure at 0x7fc823d705d0>"
            ]
          },
          "metadata": {
            "tags": []
          }
        }
      ]
    },
    {
      "metadata": {
        "id": "CI7JI_BBlsP0",
        "colab_type": "code",
        "colab": {}
      },
      "cell_type": "code",
      "source": [
        ""
      ],
      "execution_count": 0,
      "outputs": []
    }
  ]
}